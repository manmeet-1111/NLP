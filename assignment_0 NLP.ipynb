{
  "nbformat": 4,
  "nbformat_minor": 0,
  "metadata": {
    "colab": {
      "provenance": []
    },
    "kernelspec": {
      "name": "python3",
      "display_name": "Python 3"
    },
    "language_info": {
      "name": "python"
    }
  },
  "cells": [
    {
      "cell_type": "code",
      "execution_count": 5,
      "metadata": {
        "colab": {
          "base_uri": "https://localhost:8080/"
        },
        "id": "h4WbvOB-E4VA",
        "outputId": "361bac80-5084-4bb3-ab2c-6edbb63d3808"
      },
      "outputs": [
        {
          "output_type": "stream",
          "name": "stdout",
          "text": [
            "['is', 'is']\n",
            "[]\n",
            "['h', 'i', 'i', 'a', 'e']\n"
          ]
        }
      ],
      "source": [
        "#regression expressions python practice\n",
        "# so, there are 4 regex functions\n",
        "# findall(), search(), split(), sub()\n",
        "# findall fn return a list containing all matches\n",
        "import re\n",
        "text = \"this is a text.\"\n",
        "result = re.findall(\"is\",text)\n",
        "print(result)\n",
        "# findall return an empty list if matches not found\n",
        "result = re.findall(\"the\",text)\n",
        "print(result)\n",
        "#finding all lowercase letters from a to m using findall fn\n",
        "result = re.findall(\"[a-m]\",text)\n",
        "print(result)\n"
      ]
    },
    {
      "cell_type": "code",
      "source": [
        "#finding digits from 0 to 9 in text\n",
        "text = \"there are 89 students in this batch.\"\n",
        "result = re.findall(\"\\d\",text)\n",
        "print(result)\n",
        "\n",
        "# . for representing any character except newline character\n",
        "result = re.findall(\"th..e\",text)\n",
        "print(result)\n",
        "\n",
        "# ^ to check that whether text started with particular character or not\n",
        "result = re.findall(\"^there\",text)\n",
        "print(result)\n",
        "if(result):\n",
        "  print(\"yes\")\n",
        "\n",
        "# to check whether string ends with particular characters or not\n",
        "result = re.findall(\"batch.$\",text)\n",
        "if(result):\n",
        "  print(\"yes\")"
      ],
      "metadata": {
        "colab": {
          "base_uri": "https://localhost:8080/"
        },
        "id": "fw2WQ7h3JV9-",
        "outputId": "d0eb2c81-497c-4f6e-e373-b0093f618a06"
      },
      "execution_count": 16,
      "outputs": [
        {
          "output_type": "stream",
          "name": "stdout",
          "text": [
            "['8', '9']\n",
            "['there']\n",
            "['there']\n",
            "yes\n",
            "yes\n"
          ]
        }
      ]
    },
    {
      "cell_type": "code",
      "source": [
        "# search() fn searches a string for a match , and if found then it returns a match object\n",
        "# if there is more than one match then only first occurance of the match will be returned\n",
        "text = \"this is a text. this text contains 8 words.\"\n",
        "result = re.search(\"a\",text)\n",
        "print(result.start())\n",
        "\n",
        "# search fn returns none if no match found\n",
        "result = re.search(\"z\",text)\n",
        "print(result)"
      ],
      "metadata": {
        "colab": {
          "base_uri": "https://localhost:8080/"
        },
        "id": "Qjgei0QYJy2S",
        "outputId": "f7037be3-5c6f-4d29-d1d4-72c359878b7e"
      },
      "execution_count": 22,
      "outputs": [
        {
          "output_type": "stream",
          "name": "stdout",
          "text": [
            "8\n",
            "None\n"
          ]
        }
      ]
    },
    {
      "cell_type": "code",
      "source": [
        "# split fn returns a list where the string has been split at each match\n",
        "result = re.split(\"\\s\",text)\n",
        "print(result)\n",
        "# we can also control the number of occurance by specifying maxsplit fn\n",
        "result = re.split(\"\\s\", text , 2)\n",
        "print(result)"
      ],
      "metadata": {
        "colab": {
          "base_uri": "https://localhost:8080/"
        },
        "id": "A6pR8K9wMyv_",
        "outputId": "b5bfc0e8-6a6b-451b-8132-c92b867fc5cb"
      },
      "execution_count": 24,
      "outputs": [
        {
          "output_type": "stream",
          "name": "stdout",
          "text": [
            "['this', 'is', 'a', 'text.', 'this', 'text', 'contains', '8', 'words.']\n",
            "['this', 'is', 'a text. this text contains 8 words.']\n"
          ]
        }
      ]
    },
    {
      "cell_type": "code",
      "source": [
        "# sub function replaces the matches with the text of your choice\n",
        "result = re.sub(\"\\s\",\"4\",text)\n",
        "print(result)\n",
        "# we can also control the number of replacement by specifying count parameter\n",
        "result = re.sub(\"\\s\",\"4\",text,2)\n",
        "print(result)"
      ],
      "metadata": {
        "colab": {
          "base_uri": "https://localhost:8080/"
        },
        "id": "Y7aoiz2EOJVj",
        "outputId": "26abc5cf-e4be-4f23-b60e-33d6d524867a"
      },
      "execution_count": 26,
      "outputs": [
        {
          "output_type": "stream",
          "name": "stdout",
          "text": [
            "this4is4a4text.4this4text4contains484words.\n",
            "this4is4a text. this text contains 8 words.\n"
          ]
        }
      ]
    }
  ]
}